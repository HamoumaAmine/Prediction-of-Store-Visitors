{
 "cells": [
  {
   "cell_type": "code",
   "execution_count": 12,
   "metadata": {},
   "outputs": [],
   "source": [
    "import numpy as np\n",
    "import pandas as pd\n",
    "import seaborn as sns\n",
    "import matplotlib.pyplot as plt"
   ]
  },
  {
   "cell_type": "code",
   "execution_count": 13,
   "metadata": {},
   "outputs": [],
   "source": [
    "train_df = pd.read_csv(\"train_df.csv\", sep=',')\n",
    "test_df = pd.read_csv(\"test_df.csv\", sep=',')\n",
    "event_df = pd.read_csv(\"event_df.csv\", sep=',')"
   ]
  },
  {
   "cell_type": "code",
   "execution_count": 14,
   "metadata": {},
   "outputs": [
    {
     "name": "stdout",
     "output_type": "stream",
     "text": [
      "   id           date  store_visitors\n",
      "0   0  2023/1/1 5:00               1\n",
      "1   1  2023/1/1 6:00               1\n",
      "2   2  2023/1/1 7:00               0\n",
      "3   3  2023/1/1 8:00               2\n",
      "4   4  2023/1/1 9:00              21\n"
     ]
    }
   ],
   "source": [
    "print(train_df.head())"
   ]
  },
  {
   "cell_type": "code",
   "execution_count": 15,
   "metadata": {},
   "outputs": [
    {
     "name": "stdout",
     "output_type": "stream",
     "text": [
      "          id             date  store_visitors\n",
      "13102  13102  2024/6/30 16:00              35\n",
      "13103  13103  2024/6/30 17:00              20\n",
      "13104  13104  2024/6/30 18:00               8\n",
      "13105  13105  2024/6/30 19:00               3\n",
      "13106  13106  2024/6/30 20:00               0\n"
     ]
    }
   ],
   "source": [
    "print(train_df.tail())"
   ]
  },
  {
   "cell_type": "code",
   "execution_count": 16,
   "metadata": {},
   "outputs": [
    {
     "name": "stdout",
     "output_type": "stream",
     "text": [
      "<class 'pandas.core.frame.DataFrame'>\n",
      "RangeIndex: 13107 entries, 0 to 13106\n",
      "Data columns (total 3 columns):\n",
      " #   Column          Non-Null Count  Dtype \n",
      "---  ------          --------------  ----- \n",
      " 0   id              13107 non-null  int64 \n",
      " 1   date            13107 non-null  object\n",
      " 2   store_visitors  13107 non-null  int64 \n",
      "dtypes: int64(2), object(1)\n",
      "memory usage: 307.3+ KB\n",
      "None\n"
     ]
    }
   ],
   "source": [
    "print(train_df.info())"
   ]
  },
  {
   "cell_type": "code",
   "execution_count": 17,
   "metadata": {},
   "outputs": [
    {
     "name": "stdout",
     "output_type": "stream",
     "text": [
      "                 id  store_visitors\n",
      "count  13107.000000    13107.000000\n",
      "mean    6553.000000       15.286488\n",
      "std     3783.809324       17.094921\n",
      "min        0.000000        0.000000\n",
      "25%     3276.500000        0.000000\n",
      "50%     6553.000000        7.000000\n",
      "75%     9829.500000       28.000000\n",
      "max    13106.000000      119.000000\n"
     ]
    }
   ],
   "source": [
    "print(train_df.describe())"
   ]
  },
  {
   "cell_type": "code",
   "execution_count": 18,
   "metadata": {},
   "outputs": [
    {
     "name": "stdout",
     "output_type": "stream",
     "text": [
      "Nombre de lignes : 13107\n"
     ]
    }
   ],
   "source": [
    "print(\"Nombre de lignes :\", len(train_df))"
   ]
  },
  {
   "cell_type": "code",
   "execution_count": 19,
   "metadata": {},
   "outputs": [
    {
     "name": "stdout",
     "output_type": "stream",
     "text": [
      "id                0\n",
      "date              0\n",
      "store_visitors    0\n",
      "dtype: int64\n"
     ]
    }
   ],
   "source": [
    "print(train_df.isnull().sum())"
   ]
  },
  {
   "cell_type": "code",
   "execution_count": 20,
   "metadata": {},
   "outputs": [
    {
     "name": "stdout",
     "output_type": "stream",
     "text": [
      "Empty DataFrame\n",
      "Columns: [id, date, store_visitors]\n",
      "Index: []\n"
     ]
    }
   ],
   "source": [
    "train_df[\"date\"] = pd.to_datetime(train_df[\"date\"])\n",
    "print(train_df[train_df['date'].isnull()])\n",
    "#affiche la ou ça a echoué"
   ]
  },
  {
   "cell_type": "code",
   "execution_count": 21,
   "metadata": {},
   "outputs": [],
   "source": [
    "train_df = train_df.drop(columns=['id'])"
   ]
  },
  {
   "cell_type": "code",
   "execution_count": 22,
   "metadata": {},
   "outputs": [
    {
     "name": "stdout",
     "output_type": "stream",
     "text": [
      "Nombre de doublons (True) :  0\n",
      "Nombre de lignes uniques (False) :  13107\n"
     ]
    }
   ],
   "source": [
    "print(\"Nombre de doublons (True) : \", train_df.duplicated().sum())\n",
    "print(\"Nombre de lignes uniques (False) : \", (~train_df.duplicated()).sum())"
   ]
  }
 ],
 "metadata": {
  "kernelspec": {
   "display_name": "Python 3",
   "language": "python",
   "name": "python3"
  },
  "language_info": {
   "codemirror_mode": {
    "name": "ipython",
    "version": 3
   },
   "file_extension": ".py",
   "mimetype": "text/x-python",
   "name": "python",
   "nbconvert_exporter": "python",
   "pygments_lexer": "ipython3",
   "version": "3.11.5"
  }
 },
 "nbformat": 4,
 "nbformat_minor": 2
}
